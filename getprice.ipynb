{
 "cells": [
  {
   "cell_type": "code",
   "execution_count": 4,
   "id": "9eb63c0c",
   "metadata": {},
   "outputs": [
    {
     "name": "stdout",
     "output_type": "stream",
     "text": [
      "Requirement already satisfied: pandas_datareader in /Users/kazuhiro/opt/anaconda3/envs/ox/lib/python3.9/site-packages (0.10.0)\r\n",
      "Requirement already satisfied: requests>=2.19.0 in /Users/kazuhiro/opt/anaconda3/envs/ox/lib/python3.9/site-packages (from pandas_datareader) (2.25.1)\r\n",
      "Requirement already satisfied: lxml in /Users/kazuhiro/opt/anaconda3/envs/ox/lib/python3.9/site-packages (from pandas_datareader) (4.6.3)\r\n",
      "Requirement already satisfied: pandas>=0.23 in /Users/kazuhiro/opt/anaconda3/envs/ox/lib/python3.9/site-packages (from pandas_datareader) (1.2.4)\r\n",
      "Requirement already satisfied: python-dateutil>=2.7.3 in /Users/kazuhiro/opt/anaconda3/envs/ox/lib/python3.9/site-packages (from pandas>=0.23->pandas_datareader) (2.8.1)\r\n",
      "Requirement already satisfied: pytz>=2017.3 in /Users/kazuhiro/opt/anaconda3/envs/ox/lib/python3.9/site-packages (from pandas>=0.23->pandas_datareader) (2021.1)\r\n",
      "Requirement already satisfied: numpy>=1.16.5 in /Users/kazuhiro/opt/anaconda3/envs/ox/lib/python3.9/site-packages (from pandas>=0.23->pandas_datareader) (1.20.3)\r\n",
      "Requirement already satisfied: six>=1.5 in /Users/kazuhiro/opt/anaconda3/envs/ox/lib/python3.9/site-packages (from python-dateutil>=2.7.3->pandas>=0.23->pandas_datareader) (1.16.0)\r\n",
      "Requirement already satisfied: idna<3,>=2.5 in /Users/kazuhiro/opt/anaconda3/envs/ox/lib/python3.9/site-packages (from requests>=2.19.0->pandas_datareader) (2.10)\r\n",
      "Requirement already satisfied: urllib3<1.27,>=1.21.1 in /Users/kazuhiro/opt/anaconda3/envs/ox/lib/python3.9/site-packages (from requests>=2.19.0->pandas_datareader) (1.26.5)\r\n",
      "Requirement already satisfied: chardet<5,>=3.0.2 in /Users/kazuhiro/opt/anaconda3/envs/ox/lib/python3.9/site-packages (from requests>=2.19.0->pandas_datareader) (4.0.0)\r\n",
      "Requirement already satisfied: certifi>=2017.4.17 in /Users/kazuhiro/opt/anaconda3/envs/ox/lib/python3.9/site-packages (from requests>=2.19.0->pandas_datareader) (2020.12.5)\r\n"
     ]
    }
   ],
   "source": [
    "!pip install pandas_datareader\n"
   ]
  },
  {
   "cell_type": "code",
   "execution_count": 6,
   "id": "67d02108",
   "metadata": {},
   "outputs": [
    {
     "name": "stdout",
     "output_type": "stream",
     "text": [
      "             Open   High    Low  Close  Volume\n",
      "Date                                          \n",
      "2020-01-31  23860  24130  23850  23910  248984\n",
      "2020-01-30  23980  24020  23590  23650  311328\n",
      "2020-01-29  24000  24100  23920  24100  227687\n",
      "2020-01-28  23870  23950  23830  23940  320095\n",
      "2020-01-27  24060  24180  24010  24110  382449\n",
      "2020-01-24  24590  24590  24480  24550   65779\n",
      "2020-01-23  24570  24630  24490  24510  156663\n",
      "2020-01-22  24550  24770  24550  24760  179841\n",
      "2020-01-21  24800  24800  24560  24570  137274\n",
      "2020-01-20  24820  24840  24790  24810   42876\n",
      "2020-01-17  24830  24850  24740  24790  209201\n",
      "2020-01-16  24700  24710  24640  24670   41870\n",
      "2020-01-15  24660  24720  24610  24630   87793\n",
      "2020-01-14  24700  24790  24690  24730  284075\n",
      "2020-01-10  24500  24620  24480  24580  113641\n",
      "2020-01-09  24270  24500  24260  24440  188019\n",
      "2020-01-08  23900  24020  23650  23930  396435\n",
      "2020-01-07  24030  24300  24010  24300  170307\n",
      "2020-01-06  24000  24050  23860  23910  568225\n"
     ]
    },
    {
     "data": {
      "text/plain": [
       "pandas.core.frame.DataFrame"
      ]
     },
     "execution_count": 6,
     "metadata": {},
     "output_type": "execute_result"
    }
   ],
   "source": [
    "from pandas_datareader.stooq import StooqDailyReader\n",
    "from datetime import datetime\n",
    "\n",
    "start = datetime(2020, 1, 1)\n",
    "end = datetime(2020, 2, 1)\n",
    "brand = '1321.JP'\n",
    "\n",
    "stooq = StooqDailyReader(brand, start=start, end=end)\n",
    "data = stooq.read()  # pandas.core.frame.DataFrame\n",
    "print(data)\n",
    "\n",
    "type(data)\n",
    "\n"
   ]
  },
  {
   "cell_type": "code",
   "execution_count": null,
   "id": "6755811b",
   "metadata": {},
   "outputs": [],
   "source": []
  },
  {
   "cell_type": "code",
   "execution_count": 8,
   "id": "cd5c819c",
   "metadata": {},
   "outputs": [
    {
     "data": {
      "text/plain": [
       "Date\n",
       "2020-01-31    23910\n",
       "2020-01-30    23650\n",
       "2020-01-29    24100\n",
       "2020-01-28    23940\n",
       "2020-01-27    24110\n",
       "2020-01-24    24550\n",
       "2020-01-23    24510\n",
       "2020-01-22    24760\n",
       "2020-01-21    24570\n",
       "2020-01-20    24810\n",
       "2020-01-17    24790\n",
       "2020-01-16    24670\n",
       "2020-01-15    24630\n",
       "2020-01-14    24730\n",
       "2020-01-10    24580\n",
       "2020-01-09    24440\n",
       "2020-01-08    23930\n",
       "2020-01-07    24300\n",
       "2020-01-06    23910\n",
       "Name: Close, dtype: int64"
      ]
     },
     "execution_count": 8,
     "metadata": {},
     "output_type": "execute_result"
    }
   ],
   "source": [
    "data['Close']"
   ]
  },
  {
   "cell_type": "code",
   "execution_count": null,
   "id": "5eaf0cd6",
   "metadata": {},
   "outputs": [],
   "source": [
    "#\n",
    "#https://kiseno-log.com/2020/06/29/python%E3%81%A7%E6%97%A5%E6%9C%AC%E6%A0%AA%E3%81%AE%E6%A0%AA%E4%BE%A1%E3%82%92%E5%8F%96%E5%BE%97%E3%81%97%E3%81%A6%E3%83%AD%E3%83%BC%E3%82%BD%E3%82%AF%E8%B6%B3%E3%81%AE%E6%8F%8F%E7%94%BB/\n",
    "    "
   ]
  },
  {
   "cell_type": "code",
   "execution_count": 9,
   "id": "f7e9581a",
   "metadata": {},
   "outputs": [],
   "source": [
    "#取得期間を指定しない場合\n",
    "import pandas as pd\n",
    "\n",
    "def get_price(code):\n",
    "    df = pd.read_csv(f'https://stooq.com/q/d/l/?s={code}&i=d',index_col=0)\n",
    "    df.index = pd.to_datetime(df.index).tz_localize('Asia/Tokyo')\n",
    "    return df\n",
    "\n",
    "df = get_price('6701.jp')"
   ]
  },
  {
   "cell_type": "code",
   "execution_count": 10,
   "id": "bd0005c2",
   "metadata": {},
   "outputs": [],
   "source": [
    "#取得期間を指定する場合\n",
    "def get_price_time_designation(start, end, code):\n",
    "    df = pd.read_csv(f'https://stooq.com/q/d/l/?s={code}&d1={start}&d2={end}&i=d',index_col=0)\n",
    "    df.index = pd.to_datetime(df.index).tz_localize('Asia/Tokyo')\n",
    "    \n",
    "    return df\n",
    "\n",
    "df_t = get_price_time_designation('20190620','20200625','6701.jp')"
   ]
  },
  {
   "cell_type": "code",
   "execution_count": 11,
   "id": "ee8d38ef",
   "metadata": {},
   "outputs": [
    {
     "data": {
      "text/html": [
       "<div>\n",
       "<style scoped>\n",
       "    .dataframe tbody tr th:only-of-type {\n",
       "        vertical-align: middle;\n",
       "    }\n",
       "\n",
       "    .dataframe tbody tr th {\n",
       "        vertical-align: top;\n",
       "    }\n",
       "\n",
       "    .dataframe thead th {\n",
       "        text-align: right;\n",
       "    }\n",
       "</style>\n",
       "<table border=\"1\" class=\"dataframe\">\n",
       "  <thead>\n",
       "    <tr style=\"text-align: right;\">\n",
       "      <th></th>\n",
       "      <th>Open</th>\n",
       "      <th>High</th>\n",
       "      <th>Low</th>\n",
       "      <th>Close</th>\n",
       "      <th>Volume</th>\n",
       "    </tr>\n",
       "    <tr>\n",
       "      <th>Date</th>\n",
       "      <th></th>\n",
       "      <th></th>\n",
       "      <th></th>\n",
       "      <th></th>\n",
       "      <th></th>\n",
       "    </tr>\n",
       "  </thead>\n",
       "  <tbody>\n",
       "    <tr>\n",
       "      <th>2019-06-20 00:00:00+09:00</th>\n",
       "      <td>3978.18</td>\n",
       "      <td>3997.50</td>\n",
       "      <td>3949.22</td>\n",
       "      <td>3954.04</td>\n",
       "      <td>614551</td>\n",
       "    </tr>\n",
       "    <tr>\n",
       "      <th>2019-06-21 00:00:00+09:00</th>\n",
       "      <td>3963.71</td>\n",
       "      <td>3963.71</td>\n",
       "      <td>3847.84</td>\n",
       "      <td>3867.15</td>\n",
       "      <td>1697113</td>\n",
       "    </tr>\n",
       "    <tr>\n",
       "      <th>2019-06-24 00:00:00+09:00</th>\n",
       "      <td>3905.78</td>\n",
       "      <td>3910.61</td>\n",
       "      <td>3862.33</td>\n",
       "      <td>3891.29</td>\n",
       "      <td>812464</td>\n",
       "    </tr>\n",
       "    <tr>\n",
       "      <th>2019-06-25 00:00:00+09:00</th>\n",
       "      <td>3905.78</td>\n",
       "      <td>3949.22</td>\n",
       "      <td>3905.78</td>\n",
       "      <td>3939.57</td>\n",
       "      <td>830795</td>\n",
       "    </tr>\n",
       "    <tr>\n",
       "      <th>2019-06-26 00:00:00+09:00</th>\n",
       "      <td>3915.43</td>\n",
       "      <td>3958.88</td>\n",
       "      <td>3900.95</td>\n",
       "      <td>3915.43</td>\n",
       "      <td>904015</td>\n",
       "    </tr>\n",
       "    <tr>\n",
       "      <th>...</th>\n",
       "      <td>...</td>\n",
       "      <td>...</td>\n",
       "      <td>...</td>\n",
       "      <td>...</td>\n",
       "      <td>...</td>\n",
       "    </tr>\n",
       "    <tr>\n",
       "      <th>2020-06-19 00:00:00+09:00</th>\n",
       "      <td>4926.19</td>\n",
       "      <td>4965.37</td>\n",
       "      <td>4896.81</td>\n",
       "      <td>4896.81</td>\n",
       "      <td>2200821</td>\n",
       "    </tr>\n",
       "    <tr>\n",
       "      <th>2020-06-22 00:00:00+09:00</th>\n",
       "      <td>4906.61</td>\n",
       "      <td>4965.37</td>\n",
       "      <td>4906.61</td>\n",
       "      <td>4945.78</td>\n",
       "      <td>781122</td>\n",
       "    </tr>\n",
       "    <tr>\n",
       "      <th>2020-06-23 00:00:00+09:00</th>\n",
       "      <td>4926.19</td>\n",
       "      <td>5033.92</td>\n",
       "      <td>4916.40</td>\n",
       "      <td>4994.74</td>\n",
       "      <td>1663736</td>\n",
       "    </tr>\n",
       "    <tr>\n",
       "      <th>2020-06-24 00:00:00+09:00</th>\n",
       "      <td>5004.54</td>\n",
       "      <td>5073.09</td>\n",
       "      <td>4935.99</td>\n",
       "      <td>4945.78</td>\n",
       "      <td>1737049</td>\n",
       "    </tr>\n",
       "    <tr>\n",
       "      <th>2020-06-25 00:00:00+09:00</th>\n",
       "      <td>4984.95</td>\n",
       "      <td>5171.03</td>\n",
       "      <td>4975.16</td>\n",
       "      <td>5063.30</td>\n",
       "      <td>3438871</td>\n",
       "    </tr>\n",
       "  </tbody>\n",
       "</table>\n",
       "<p>247 rows × 5 columns</p>\n",
       "</div>"
      ],
      "text/plain": [
       "                              Open     High      Low    Close   Volume\n",
       "Date                                                                  \n",
       "2019-06-20 00:00:00+09:00  3978.18  3997.50  3949.22  3954.04   614551\n",
       "2019-06-21 00:00:00+09:00  3963.71  3963.71  3847.84  3867.15  1697113\n",
       "2019-06-24 00:00:00+09:00  3905.78  3910.61  3862.33  3891.29   812464\n",
       "2019-06-25 00:00:00+09:00  3905.78  3949.22  3905.78  3939.57   830795\n",
       "2019-06-26 00:00:00+09:00  3915.43  3958.88  3900.95  3915.43   904015\n",
       "...                            ...      ...      ...      ...      ...\n",
       "2020-06-19 00:00:00+09:00  4926.19  4965.37  4896.81  4896.81  2200821\n",
       "2020-06-22 00:00:00+09:00  4906.61  4965.37  4906.61  4945.78   781122\n",
       "2020-06-23 00:00:00+09:00  4926.19  5033.92  4916.40  4994.74  1663736\n",
       "2020-06-24 00:00:00+09:00  5004.54  5073.09  4935.99  4945.78  1737049\n",
       "2020-06-25 00:00:00+09:00  4984.95  5171.03  4975.16  5063.30  3438871\n",
       "\n",
       "[247 rows x 5 columns]"
      ]
     },
     "execution_count": 11,
     "metadata": {},
     "output_type": "execute_result"
    }
   ],
   "source": [
    "df_t"
   ]
  },
  {
   "cell_type": "code",
   "execution_count": 12,
   "id": "c0428fa0",
   "metadata": {},
   "outputs": [],
   "source": [
    "#TOPIX100銘柄一覧 https://search.sbisec.co.jp/v2/popwin/info/stock/pop690_topix100.html\n",
    "#7309 シマノ\n",
    "\n",
    "shimano_df_t = get_price_time_designation('20190620','20200625','7309.jp')"
   ]
  },
  {
   "cell_type": "code",
   "execution_count": 13,
   "id": "9dc67f26",
   "metadata": {},
   "outputs": [
    {
     "data": {
      "text/html": [
       "<div>\n",
       "<style scoped>\n",
       "    .dataframe tbody tr th:only-of-type {\n",
       "        vertical-align: middle;\n",
       "    }\n",
       "\n",
       "    .dataframe tbody tr th {\n",
       "        vertical-align: top;\n",
       "    }\n",
       "\n",
       "    .dataframe thead th {\n",
       "        text-align: right;\n",
       "    }\n",
       "</style>\n",
       "<table border=\"1\" class=\"dataframe\">\n",
       "  <thead>\n",
       "    <tr style=\"text-align: right;\">\n",
       "      <th></th>\n",
       "      <th>Open</th>\n",
       "      <th>High</th>\n",
       "      <th>Low</th>\n",
       "      <th>Close</th>\n",
       "      <th>Volume</th>\n",
       "    </tr>\n",
       "    <tr>\n",
       "      <th>Date</th>\n",
       "      <th></th>\n",
       "      <th></th>\n",
       "      <th></th>\n",
       "      <th></th>\n",
       "      <th></th>\n",
       "    </tr>\n",
       "  </thead>\n",
       "  <tbody>\n",
       "    <tr>\n",
       "      <th>2019-06-20 00:00:00+09:00</th>\n",
       "      <td>16286.87</td>\n",
       "      <td>16365.36</td>\n",
       "      <td>16208.38</td>\n",
       "      <td>16237.82</td>\n",
       "      <td>111198</td>\n",
       "    </tr>\n",
       "    <tr>\n",
       "      <th>2019-06-21 00:00:00+09:00</th>\n",
       "      <td>16061.22</td>\n",
       "      <td>16228.01</td>\n",
       "      <td>15992.53</td>\n",
       "      <td>16071.02</td>\n",
       "      <td>205578</td>\n",
       "    </tr>\n",
       "    <tr>\n",
       "      <th>2019-06-24 00:00:00+09:00</th>\n",
       "      <td>16021.97</td>\n",
       "      <td>16188.76</td>\n",
       "      <td>15972.91</td>\n",
       "      <td>16120.09</td>\n",
       "      <td>88877</td>\n",
       "    </tr>\n",
       "    <tr>\n",
       "      <th>2019-06-25 00:00:00+09:00</th>\n",
       "      <td>15904.24</td>\n",
       "      <td>16159.32</td>\n",
       "      <td>15904.24</td>\n",
       "      <td>15943.47</td>\n",
       "      <td>143404</td>\n",
       "    </tr>\n",
       "    <tr>\n",
       "      <th>2019-06-26 00:00:00+09:00</th>\n",
       "      <td>15941.02</td>\n",
       "      <td>16039.59</td>\n",
       "      <td>15773.41</td>\n",
       "      <td>15812.85</td>\n",
       "      <td>122535</td>\n",
       "    </tr>\n",
       "    <tr>\n",
       "      <th>...</th>\n",
       "      <td>...</td>\n",
       "      <td>...</td>\n",
       "      <td>...</td>\n",
       "      <td>...</td>\n",
       "      <td>...</td>\n",
       "    </tr>\n",
       "    <tr>\n",
       "      <th>2020-06-19 00:00:00+09:00</th>\n",
       "      <td>20971.21</td>\n",
       "      <td>21040.53</td>\n",
       "      <td>20585.07</td>\n",
       "      <td>20614.76</td>\n",
       "      <td>300159</td>\n",
       "    </tr>\n",
       "    <tr>\n",
       "      <th>2020-06-22 00:00:00+09:00</th>\n",
       "      <td>20723.68</td>\n",
       "      <td>20901.91</td>\n",
       "      <td>20476.15</td>\n",
       "      <td>20486.05</td>\n",
       "      <td>248751</td>\n",
       "    </tr>\n",
       "    <tr>\n",
       "      <th>2020-06-23 00:00:00+09:00</th>\n",
       "      <td>20594.97</td>\n",
       "      <td>20703.88</td>\n",
       "      <td>20357.33</td>\n",
       "      <td>20515.75</td>\n",
       "      <td>303289</td>\n",
       "    </tr>\n",
       "    <tr>\n",
       "      <th>2020-06-24 00:00:00+09:00</th>\n",
       "      <td>20426.64</td>\n",
       "      <td>20476.15</td>\n",
       "      <td>20139.50</td>\n",
       "      <td>20278.11</td>\n",
       "      <td>378935</td>\n",
       "    </tr>\n",
       "    <tr>\n",
       "      <th>2020-06-25 00:00:00+09:00</th>\n",
       "      <td>20198.91</td>\n",
       "      <td>20426.64</td>\n",
       "      <td>20099.89</td>\n",
       "      <td>20317.73</td>\n",
       "      <td>398226</td>\n",
       "    </tr>\n",
       "  </tbody>\n",
       "</table>\n",
       "<p>247 rows × 5 columns</p>\n",
       "</div>"
      ],
      "text/plain": [
       "                               Open      High       Low     Close  Volume\n",
       "Date                                                                     \n",
       "2019-06-20 00:00:00+09:00  16286.87  16365.36  16208.38  16237.82  111198\n",
       "2019-06-21 00:00:00+09:00  16061.22  16228.01  15992.53  16071.02  205578\n",
       "2019-06-24 00:00:00+09:00  16021.97  16188.76  15972.91  16120.09   88877\n",
       "2019-06-25 00:00:00+09:00  15904.24  16159.32  15904.24  15943.47  143404\n",
       "2019-06-26 00:00:00+09:00  15941.02  16039.59  15773.41  15812.85  122535\n",
       "...                             ...       ...       ...       ...     ...\n",
       "2020-06-19 00:00:00+09:00  20971.21  21040.53  20585.07  20614.76  300159\n",
       "2020-06-22 00:00:00+09:00  20723.68  20901.91  20476.15  20486.05  248751\n",
       "2020-06-23 00:00:00+09:00  20594.97  20703.88  20357.33  20515.75  303289\n",
       "2020-06-24 00:00:00+09:00  20426.64  20476.15  20139.50  20278.11  378935\n",
       "2020-06-25 00:00:00+09:00  20198.91  20426.64  20099.89  20317.73  398226\n",
       "\n",
       "[247 rows x 5 columns]"
      ]
     },
     "execution_count": 13,
     "metadata": {},
     "output_type": "execute_result"
    }
   ],
   "source": [
    "shimano_df_t"
   ]
  },
  {
   "cell_type": "code",
   "execution_count": 14,
   "id": "0ac9895c",
   "metadata": {},
   "outputs": [
    {
     "data": {
      "text/plain": [
       "<AxesSubplot:xlabel='Date'>"
      ]
     },
     "execution_count": 14,
     "metadata": {},
     "output_type": "execute_result"
    },
    {
     "data": {
      "image/png": "[encoded data removed]",
      "text/plain": [
       "<Figure size 432x288 with 1 Axes>"
      ]
     },
     "metadata": {
      "needs_background": "light"
     },
     "output_type": "display_data"
    }
   ],
   "source": [
    "df.iloc[:,3].plot() #4列目 Closeだけをプロット "
   ]
  },
  {
   "cell_type": "code",
   "execution_count": null,
   "id": "c66527f1",
   "metadata": {},
   "outputs": [],
   "source": []
  }
 ],
 "metadata": {
  "kernelspec": {
   "display_name": "Python 3",
   "language": "python",
   "name": "python3"
  },
  "language_info": {
   "codemirror_mode": {
    "name": "ipython",
    "version": 3
   },
   "file_extension": ".py",
   "mimetype": "text/x-python",
   "name": "python",
   "nbconvert_exporter": "python",
   "pygments_lexer": "ipython3",
   "version": "3.9.4"
  }
 },
 "nbformat": 4,
 "nbformat_minor": 5
}
